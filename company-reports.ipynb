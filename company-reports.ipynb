{
 "metadata": {
  "language_info": {
   "codemirror_mode": {
    "name": "ipython",
    "version": 3
   },
   "file_extension": ".py",
   "mimetype": "text/x-python",
   "name": "python",
   "nbconvert_exporter": "python",
   "pygments_lexer": "ipython3",
   "version": "3.8.5-final"
  },
  "orig_nbformat": 2,
  "kernelspec": {
   "name": "python3",
   "display_name": "Python 3.8.5 64-bit ('py3x-tf2x': conda)",
   "metadata": {
    "interpreter": {
     "hash": "c6e04f7a5ac130eeb20013286f1255cff64e2a49ad6e6267f06a989cb4e99f9c"
    }
   }
  }
 },
 "nbformat": 4,
 "nbformat_minor": 2,
 "cells": [
  {
   "source": [
    "# ESG profile Key-Initiatives (KIs) from Companies' Annual reports\n",
    "> ### To extract KIs from Annual reports using NLP"
   ],
   "cell_type": "markdown",
   "metadata": {}
  },
  {
   "cell_type": "code",
   "execution_count": 1,
   "metadata": {},
   "outputs": [],
   "source": [
    "# Import neccessary libraries\n",
    "\n",
    "import numpy as np\n",
    "import pandas as pd"
   ]
  },
  {
   "cell_type": "code",
   "execution_count": 5,
   "metadata": {},
   "outputs": [
    {
     "output_type": "execute_result",
     "data": {
      "text/plain": [
       "          Name           Industry                 Sector Headquarters  \\\n",
       "0     Ahlstrom    Basic materials        Basic resources     Helsinki   \n",
       "1   Aktia Bank         Financials                  Banks     Helsinki   \n",
       "2   Alma Media  Consumer services             Publishing     Helsinki   \n",
       "3        Altia     Consumer goods  Distillers & vintners     Helsinki   \n",
       "4  Amer Sports     Consumer goods  Recreational products     Helsinki   \n",
       "\n",
       "   Founded                Notes  \n",
       "0     1851      Fiber materials  \n",
       "1     1991              Finance  \n",
       "2     1849        Digital media  \n",
       "3     1999  Alcoholic beverages  \n",
       "4     1950   Sporting equipment  "
      ],
      "text/html": "<div>\n<style scoped>\n    .dataframe tbody tr th:only-of-type {\n        vertical-align: middle;\n    }\n\n    .dataframe tbody tr th {\n        vertical-align: top;\n    }\n\n    .dataframe thead th {\n        text-align: right;\n    }\n</style>\n<table border=\"1\" class=\"dataframe\">\n  <thead>\n    <tr style=\"text-align: right;\">\n      <th></th>\n      <th>Name</th>\n      <th>Industry</th>\n      <th>Sector</th>\n      <th>Headquarters</th>\n      <th>Founded</th>\n      <th>Notes</th>\n    </tr>\n  </thead>\n  <tbody>\n    <tr>\n      <th>0</th>\n      <td>Ahlstrom</td>\n      <td>Basic materials</td>\n      <td>Basic resources</td>\n      <td>Helsinki</td>\n      <td>1851</td>\n      <td>Fiber materials</td>\n    </tr>\n    <tr>\n      <th>1</th>\n      <td>Aktia Bank</td>\n      <td>Financials</td>\n      <td>Banks</td>\n      <td>Helsinki</td>\n      <td>1991</td>\n      <td>Finance</td>\n    </tr>\n    <tr>\n      <th>2</th>\n      <td>Alma Media</td>\n      <td>Consumer services</td>\n      <td>Publishing</td>\n      <td>Helsinki</td>\n      <td>1849</td>\n      <td>Digital media</td>\n    </tr>\n    <tr>\n      <th>3</th>\n      <td>Altia</td>\n      <td>Consumer goods</td>\n      <td>Distillers &amp; vintners</td>\n      <td>Helsinki</td>\n      <td>1999</td>\n      <td>Alcoholic beverages</td>\n    </tr>\n    <tr>\n      <th>4</th>\n      <td>Amer Sports</td>\n      <td>Consumer goods</td>\n      <td>Recreational products</td>\n      <td>Helsinki</td>\n      <td>1950</td>\n      <td>Sporting equipment</td>\n    </tr>\n  </tbody>\n</table>\n</div>"
     },
     "metadata": {},
     "execution_count": 5
    }
   ],
   "source": [
    "# Group list of companies by sectors (https://en.wikipedia.org/wiki/List_of_companies_of_Finland)\n",
    "\n",
    "companies_df = pd.read_html('https://en.wikipedia.org/wiki/List_of_companies_of_Finland')[0]\n",
    "companies_df.head()"
   ]
  },
  {
   "cell_type": "code",
   "execution_count": 9,
   "metadata": {},
   "outputs": [
    {
     "output_type": "stream",
     "name": "stdout",
     "text": [
      "<class 'pandas.core.frame.DataFrame'>\nRangeIndex: 87 entries, 0 to 86\nData columns (total 6 columns):\n #   Column        Non-Null Count  Dtype \n---  ------        --------------  ----- \n 0   Name          87 non-null     object\n 1   Industry      87 non-null     object\n 2   Sector        87 non-null     object\n 3   Headquarters  87 non-null     object\n 4   Founded       87 non-null     int64 \n 5   Notes         87 non-null     object\ndtypes: int64(1), object(5)\nmemory usage: 4.2+ KB\n"
     ]
    }
   ],
   "source": [
    "companies_df.info()"
   ]
  },
  {
   "cell_type": "code",
   "execution_count": 17,
   "metadata": {},
   "outputs": [
    {
     "output_type": "execute_result",
     "data": {
      "text/plain": [
       "                         Name            Industry  \\\n",
       "0                    Ahlstrom     Basic materials   \n",
       "85                   Woikoski     Basic materials   \n",
       "73                  Tikkurila     Basic materials   \n",
       "43                  Outokumpu     Basic materials   \n",
       "71  Talvivaara Mining Company     Basic materials   \n",
       "..                        ...                 ...   \n",
       "13                      Elisa  Telecommunications   \n",
       "10                    DNA Oyj  Telecommunications   \n",
       "19                     Fortum           Utilities   \n",
       "47             Pohjolan Voima           Utilities   \n",
       "15                    Fingrid           Utilities   \n",
       "\n",
       "                           Sector Headquarters  Founded  \\\n",
       "0                 Basic resources     Helsinki     1851   \n",
       "85                Basic resources  Voikoski[8]     1882   \n",
       "73            Commodity chemicals       Vantaa     1862   \n",
       "43                   Iron & steel     Helsinki     1932   \n",
       "71              Nonferrous metals        Espoo     2004   \n",
       "..                            ...          ...      ...   \n",
       "13  Fixed line telecommunications     Helsinki     1882   \n",
       "10      Mobile telecommunications     Helsinki     2000   \n",
       "19        Alternative electricity        Espoo     1998   \n",
       "47        Alternative electricity     Helsinki     1943   \n",
       "15       Conventional electricity     Helsinki     1996   \n",
       "\n",
       "                          Notes  \n",
       "0               Fiber materials  \n",
       "85                       Helium  \n",
       "73                       Paints  \n",
       "43                        Steel  \n",
       "71                Nickel mining  \n",
       "..                          ...  \n",
       "13  Telecommunications services  \n",
       "10  Telecommunications services  \n",
       "19                       Energy  \n",
       "47                       Energy  \n",
       "15     Electricity transmission  \n",
       "\n",
       "[87 rows x 6 columns]"
      ],
      "text/html": "<div>\n<style scoped>\n    .dataframe tbody tr th:only-of-type {\n        vertical-align: middle;\n    }\n\n    .dataframe tbody tr th {\n        vertical-align: top;\n    }\n\n    .dataframe thead th {\n        text-align: right;\n    }\n</style>\n<table border=\"1\" class=\"dataframe\">\n  <thead>\n    <tr style=\"text-align: right;\">\n      <th></th>\n      <th>Name</th>\n      <th>Industry</th>\n      <th>Sector</th>\n      <th>Headquarters</th>\n      <th>Founded</th>\n      <th>Notes</th>\n    </tr>\n  </thead>\n  <tbody>\n    <tr>\n      <th>0</th>\n      <td>Ahlstrom</td>\n      <td>Basic materials</td>\n      <td>Basic resources</td>\n      <td>Helsinki</td>\n      <td>1851</td>\n      <td>Fiber materials</td>\n    </tr>\n    <tr>\n      <th>85</th>\n      <td>Woikoski</td>\n      <td>Basic materials</td>\n      <td>Basic resources</td>\n      <td>Voikoski[8]</td>\n      <td>1882</td>\n      <td>Helium</td>\n    </tr>\n    <tr>\n      <th>73</th>\n      <td>Tikkurila</td>\n      <td>Basic materials</td>\n      <td>Commodity chemicals</td>\n      <td>Vantaa</td>\n      <td>1862</td>\n      <td>Paints</td>\n    </tr>\n    <tr>\n      <th>43</th>\n      <td>Outokumpu</td>\n      <td>Basic materials</td>\n      <td>Iron &amp; steel</td>\n      <td>Helsinki</td>\n      <td>1932</td>\n      <td>Steel</td>\n    </tr>\n    <tr>\n      <th>71</th>\n      <td>Talvivaara Mining Company</td>\n      <td>Basic materials</td>\n      <td>Nonferrous metals</td>\n      <td>Espoo</td>\n      <td>2004</td>\n      <td>Nickel mining</td>\n    </tr>\n    <tr>\n      <th>...</th>\n      <td>...</td>\n      <td>...</td>\n      <td>...</td>\n      <td>...</td>\n      <td>...</td>\n      <td>...</td>\n    </tr>\n    <tr>\n      <th>13</th>\n      <td>Elisa</td>\n      <td>Telecommunications</td>\n      <td>Fixed line telecommunications</td>\n      <td>Helsinki</td>\n      <td>1882</td>\n      <td>Telecommunications services</td>\n    </tr>\n    <tr>\n      <th>10</th>\n      <td>DNA Oyj</td>\n      <td>Telecommunications</td>\n      <td>Mobile telecommunications</td>\n      <td>Helsinki</td>\n      <td>2000</td>\n      <td>Telecommunications services</td>\n    </tr>\n    <tr>\n      <th>19</th>\n      <td>Fortum</td>\n      <td>Utilities</td>\n      <td>Alternative electricity</td>\n      <td>Espoo</td>\n      <td>1998</td>\n      <td>Energy</td>\n    </tr>\n    <tr>\n      <th>47</th>\n      <td>Pohjolan Voima</td>\n      <td>Utilities</td>\n      <td>Alternative electricity</td>\n      <td>Helsinki</td>\n      <td>1943</td>\n      <td>Energy</td>\n    </tr>\n    <tr>\n      <th>15</th>\n      <td>Fingrid</td>\n      <td>Utilities</td>\n      <td>Conventional electricity</td>\n      <td>Helsinki</td>\n      <td>1996</td>\n      <td>Electricity transmission</td>\n    </tr>\n  </tbody>\n</table>\n<p>87 rows × 6 columns</p>\n</div>"
     },
     "metadata": {},
     "execution_count": 17
    }
   ],
   "source": [
    "# Sort companies by Industry and Sector\n",
    "\n",
    "companies_sorted = companies_df.sort_values(['Industry','Sector'])\n",
    "companies_sorted"
   ]
  },
  {
   "cell_type": "code",
   "execution_count": null,
   "metadata": {},
   "outputs": [],
   "source": []
  }
 ]
}