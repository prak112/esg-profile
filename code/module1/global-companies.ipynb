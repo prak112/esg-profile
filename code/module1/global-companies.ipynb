{
 "cells": [
  {
   "cell_type": "markdown",
   "metadata": {},
   "source": [
    "# Module 1 - Key Sustainability Initiatives (KSIs) FROM Companies' Annual reports\n",
    "\n",
    "#### 1. Extract Companies list using :\n",
    "   * FINLAND Companies List: \n",
    "      - [ValueToday](https://www.value.today/headquarters/finland)\n",
    "      - [Wikipedia](https://en.wikipedia.org/wiki/List_of_largest_companies_in_Finland)\n",
    "      - [Nordic Market Data AB](https://largestcompanies.com/toplists/finland/largest-companies-by-turnover)\n",
    "   * GLOBAL Companies List:\n",
    "      - [Reports (2020, 2021) evaluated by PwC with Bloomberg](https://github.com/prak112/esg-profile/blob/4bebecd15332ae550aca1627835b451ce2bdab4f/dataset)\n",
    " <br></br>\n",
    "#### 2. Refine tabular/csv data from sources and build dataframe with columns : \n",
    "   * Rank\n",
    "   * Company_Name\n",
    "   * Location\n",
    "   * Sector\n",
    "<br></br>\n",
    "#### 3. Web Search (**Try Yahoo!Finance**) for each Company's Annual Report/Annual Sustainability Report\n",
    "   * **If available, Save Report on local directory**\n",
    "      *  Label Folder with _\"Ranking-CompanyName\"_\n",
    "   * **If NA**, mark companies KSI data as NA or null **(for probable interpretation as - ESG proxy data/outsourced ESG activities)**\n",
    "-----------\n",
    "-----------"
   ]
  },
  {
   "cell_type": "code",
   "execution_count": 26,
   "metadata": {},
   "outputs": [
    {
     "name": "stdout",
     "output_type": "stream",
     "text": [
      "Installed PyPDF2\n"
     ]
    }
   ],
   "source": [
    "# Import neccessary libraries\n",
    "\n",
    "import numpy as np\n",
    "import pandas as pd\n",
    "import matplotlib.pyplot as plt\n",
    "import seaborn as sns\n",
    "\n",
    "# Extraction libraries\n",
    "\n",
    "! pip install PyPDF2 --quiet\n",
    "print(\"Installed PyPDF2\")\n",
    "import PyPDF2\n",
    "import re"
   ]
  },
  {
   "cell_type": "code",
   "execution_count": 27,
   "metadata": {},
   "outputs": [
    {
     "name": "stdout",
     "output_type": "stream",
     "text": [
      "Total Pages of Report: 17\n",
      "['PwC | Global Top 100 companies by market capitalisation 11Top 100 global companies 1-20\\nSource: Bloomberg with PwC analysis30 June 2020 31 March 2020 31 Dec 2019 RankCompany name LocationSector Rank +/-(VS Mar 2020) Rank +/-(VS Dec 2019) Market  capitalisation ($bn)Rank Market capitalisation ($bn)Rank Market capitalisation ($bn) 1SAUDI ARABIAN OI Saudi Arabia Oil & Gas 0 0 1,741 1 1,602 1 1,879 2APPLE INC United States Technology 1 0 1,568 3 1,113 2 1,305 3MICROSOFT CORP United States Technology -1 0 1,505 2 1,200 3 1,203 4AMAZON.COM INC United States Consumer Services 0 1 1,337 4 971 5 916 5ALPHABET INC-A United States Technology 0 -1 953 5 799 4 923 6FACEBOOK INC-A United States Technology 1 0 629 7 475 6 585 7TENCENT Mainland China Technology 1 2 599 8 469 9 461 8ALIBABA GRP-ADR Mainland China Consumer Services -2 -1 577 6 522 7 569 9BERKSHIRE HATH -A United States Financials 0 -1 430 9 443 8 554 10VISA INC-CLASS A United States Financials 2 2 372 12 316 12 370 \\n11JOHNSON&JOHNSON United States Health Care -1 0 366 10 346 11 384 12WALMART INC United States Consumer Services -1 1 337 11 322 13 337 13NESTLE SA-REG Switzerland Consumer Goods 0 1 328 13 306 14 323 14ROCHE HLDG-GENUS Switzerland Health Care 0 9 300 14 280 23 279 15MASTERCARD INC- A United States Financials 3 2 294 18 243 17 301 16PROCTER & GAMBLE United States Consumer Goods 0 0 291 16 272 16 311 17JPMORGAN CHASE United States Financials -2 -7 283 15 277 10 437 18UNITEDHEALTH GRP United States Health Care 1 6 275 19 237 24 279 19TSMC Taiwan Technology 1 2 274 20 235 21 287 20HOME DEPOT INC United States Consumer Services 7 9 265 27 201 29 238 ']\n"
     ]
    }
   ],
   "source": [
    "# Extract PDF data\n",
    "pdf_file = open(r\"D:\\GitHub_Projects\\esg-profile\\dataset\\global-top-100-companies-june2020.pdf\", 'rb')\n",
    "pdf_data = PyPDF2.PdfFileReader(pdf_file)\n",
    "print(\"Total Pages of Report:\", pdf_data.numPages)\n",
    "\n",
    "# Extract tables from pdf_data\n",
    "pages = [10, 11, 12, 13, 14]\n",
    "table_data = []\n",
    "\n",
    "for page in pages:\n",
    "    table = pdf_data.getPage(page).extractText()\n",
    "    table_data.append(table)\n",
    "\n",
    "print(table_data[:1])\n",
    "\n",
    "#' N/A \\n' ---'space CAPSletter character CAPSletter space nextline'-->to omit\n",
    "ranks = list(range(1, 101))\n",
    "company_data = []\n",
    "\n",
    "for table in list(range(0,5)):\n",
    "    regex = re.findall('[A-Z\\s\\W?a-z]+(?:\\s)+(?:\\n)+', table_data[table]) # regex and filter_data avoid all formatting-space. \n",
    "    filter_data = [ele for ele in regex if ele != ' ' and ' \\n' and ',' and '-']\n",
    "    if table == 0:\n",
    "        company_data.append(filter_data[2:])\n",
    "    else:\n",
    "        company_data.append(filter_data[4:])"
   ]
  },
  {
   "cell_type": "code",
   "execution_count": 28,
   "metadata": {},
   "outputs": [
    {
     "data": {
      "text/plain": [
       "[]"
      ]
     },
     "execution_count": 28,
     "metadata": {},
     "output_type": "execute_result"
    }
   ],
   "source": [
    "company_data[2]"
   ]
  },
  {
   "cell_type": "code",
   "execution_count": 29,
   "metadata": {},
   "outputs": [],
   "source": [
    "top1to20 = company_data[0]\n",
    "top20to40 = company_data[1]\n",
    "top40to60 = company_data[2]\n",
    "top60to80 = company_data[3]\n",
    "top80to100 = company_data[4]"
   ]
  },
  {
   "cell_type": "markdown",
   "metadata": {},
   "source": [
    "-----------------\n",
    "-----------------\n",
    "\n",
    "### [*PROGRESS So Far:*]\n",
    "* > *data_dict* output clear with **top1to20, top60to80 & top80to100** , i.e.,\n",
    "\n",
    "    > *All elements are equally distributed amongst columns :  True*\n",
    "* > ERROR in **top20to40 & top40t060** : \n",
    "    - Exchange _'CCB-H Mainland China'_ in *Company_Name* to:\n",
    "    - 'CCB-H' in *Company_Name*\n",
    "    - 'China' in *Location*\n",
    "    - Change _'NIKE INC \\n-CL B \\nUnited States'_ to _'NIKE INC-CL B \\nUnited States'_\n",
    "* > ERROR in **top60to80** :\n",
    "    * Company Class (*-A, -B, -H..*) to be filtered out/combined with *Company_Name*\n",
    "\n",
    "--------------\n",
    "--------------"
   ]
  },
  {
   "cell_type": "code",
   "execution_count": 30,
   "metadata": {},
   "outputs": [
    {
     "name": "stdout",
     "output_type": "stream",
     "text": [
      "\u001b[1;31mDocstring:\u001b[0m\n",
      "S.find(sub[, start[, end]]) -> int\n",
      "\n",
      "Return the lowest index in S where substring sub is found,\n",
      "such that sub is contained within S[start:end].  Optional\n",
      "arguments start and end are interpreted as in slice notation.\n",
      "\n",
      "Return -1 on failure.\n",
      "\u001b[1;31mType:\u001b[0m      method_descriptor\n"
     ]
    }
   ],
   "source": [
    "# to find Python documenation\n",
    "?str.find"
   ]
  },
  {
   "cell_type": "code",
   "execution_count": 31,
   "metadata": {},
   "outputs": [
    {
     "name": "stdout",
     "output_type": "stream",
     "text": [
      "Rank : [41, 42, 43, 44, 45, 46, 47, 48, 49, 50, 51, 52, 53, 54, 55, 56, 57, 58, 59, 60] \n",
      "\n",
      "Company_Name : [] \n",
      "\n",
      "Location : [] \n",
      "\n",
      "Sector : [] \n",
      "\n"
     ]
    }
   ],
   "source": [
    "# Dictionary (data_dict) to allocate all columns with precise data and load into DataFrame\n",
    "\n",
    "data_dict = {}\n",
    "\n",
    "data = top40to60\n",
    "company_name = []\n",
    "location = []\n",
    "sector = []\n",
    "\n",
    "for ele in data:\n",
    "    subs = re.sub('N/A', '', ele).strip()   # substitute N/A with blanks  \n",
    "    subs = re.sub('\\n-REG', '-REG', ele).strip()    # substitute \\n-A with -A\\n,  substitute \\n-REG with -REG\\n  \n",
    "    splits = subs.split('\\n')    # split into groups by \\n\n",
    "    stripped = [split.strip() for split in splits if split != 'N/A' and '']     # split & filter elements\n",
    "    \n",
    "    try:    # to prevent any indexing errors\n",
    "        # Collect Company_Name as a list --> Add as Value to 'Company_Name' Key in data_dict\n",
    "        if stripped[0].find('Mainland China') == -1:\n",
    "            company_name.append(stripped[0])\n",
    "        else:\n",
    "            stripped[0].replace('Mainland China','China')\n",
    "            company_name.append(stripped[0])\n",
    "        \n",
    "        # Collect Location as a list --> Add as Value to 'Location' Key in data_dict\n",
    "        if stripped[1] != '-A Mainland China':\n",
    "            location.append(stripped[1])\n",
    "        else:\n",
    "            location.append(stripped[1].replace('-A Mainland China','China'))\n",
    "\n",
    "        # Collect Sector as a list --> Add as Value to 'Sector' Key in data_dict\n",
    "        sector.append(stripped[2])\n",
    "\n",
    "    except IndexError:\n",
    "        continue\n",
    "\n",
    "\n",
    "# assign keys and values to data_dict\n",
    "data_dict['Rank'] = ranks[40:60]\n",
    "data_dict['Company_Name'] = company_name\n",
    "data_dict['Location'] = location\n",
    "data_dict['Sector'] = sector\n",
    "\n",
    "#stripped\n",
    "for key, val in data_dict.items():\n",
    "    print(key ,':', val,'\\n')"
   ]
  },
  {
   "cell_type": "markdown",
   "metadata": {},
   "source": [
    "-----------\n",
    "-----------\n",
    "### [Progress So Far]\n",
    "- Corresponding errors in each column for the lack of 2 values in \"Sector\" column : \n",
    "    - **\"Company_Name\"** : SPLIT & MOVE TO Location    - 'SAP SE Germany', 'ABC-H Mainland China'\n",
    "    - **\"Location\"**     : MOVE TO Sector              - 'Technology', 'Financials', \n",
    "                           REMOVE                      - '- CL B', \n",
    "                           SPLIT                       - '-B Denmark'\n",
    "    - **\"Sector\"**       : MOVE TO Location            - 'United States'\n",
    "\n",
    "- If possible correct errors 'try' block in 'data_dict' building cell - subs, and use RegEX\n",
    "----------\n",
    "----------"
   ]
  },
  {
   "cell_type": "code",
   "execution_count": 32,
   "metadata": {},
   "outputs": [
    {
     "name": "stdout",
     "output_type": "stream",
     "text": [
      "All elements are equally distributed amongst columns :  False\n",
      "20\n",
      "0\n",
      "0\n",
      "0\n"
     ]
    }
   ],
   "source": [
    "print(\"All elements are equally distributed amongst columns : \", len(ranks[20:40])==len(company_name)==len(location)==len(sector))\n",
    "print(len(ranks[20:40]))\n",
    "print(len(company_name))\n",
    "print(len(location))\n",
    "print(len(sector))\n"
   ]
  },
  {
   "cell_type": "code",
   "execution_count": 33,
   "metadata": {},
   "outputs": [],
   "source": [
    "\n",
    "def trim_data(company_data):\n",
    "    \"\"\"\n",
    "    substitute tags, strip spaces & split string into elements\n",
    "    \n",
    "    Args:\n",
    "    company_data - list containing Company_Name, Location, Sector\n",
    "    \n",
    "    Returns:\n",
    "    new_data - dictionary containing formatted data as per columns\n",
    "\n",
    "    \"\"\"\n",
    "    new_data = {}\n",
    "    columns = ['Company_Name', 'Location', 'Sector']\n",
    "\n",
    "    for data in company_data:\n",
    "        subs = re.sub('N/A', '', data).strip() # substitute N/A with blanks\n",
    "        subs = re.sub('\\n-', '-', data).strip() # substitute \\n- with -\n",
    "        splits = subs.split('\\n') # split into elements by \\n\n",
    "        stripped = [split.strip() for split in splits if split != ''] \n",
    "        for column in columns:\n",
    "            for element in stripped:  # iterate columns and data to update dictionary\n",
    "                new_data[column] = element # ERROR-cause: repetition of column name, instead add all values relevant to column in one-go.\n",
    "\n",
    "    return new_data"
   ]
  },
  {
   "cell_type": "code",
   "execution_count": 34,
   "metadata": {},
   "outputs": [
    {
     "ename": "TypeError",
     "evalue": "expected string or bytes-like object",
     "output_type": "error",
     "traceback": [
      "\u001b[1;31m---------------------------------------------------------------------------\u001b[0m",
      "\u001b[1;31mTypeError\u001b[0m                                 Traceback (most recent call last)",
      "\u001b[1;32md:\\GitHub_Projects\\esg-profile\\code\\module1\\global-companies.ipynb Cell 12\u001b[0m in \u001b[0;36m<cell line: 1>\u001b[1;34m()\u001b[0m\n\u001b[1;32m----> <a href='vscode-notebook-cell:/d%3A/GitHub_Projects/esg-profile/code/module1/global-companies.ipynb#X16sZmlsZQ%3D%3D?line=0'>1</a>\u001b[0m trim_data(company_data)\n",
      "\u001b[1;32md:\\GitHub_Projects\\esg-profile\\code\\module1\\global-companies.ipynb Cell 12\u001b[0m in \u001b[0;36mtrim_data\u001b[1;34m(company_data)\u001b[0m\n\u001b[0;32m     <a href='vscode-notebook-cell:/d%3A/GitHub_Projects/esg-profile/code/module1/global-companies.ipynb#X16sZmlsZQ%3D%3D?line=12'>13</a>\u001b[0m columns \u001b[39m=\u001b[39m [\u001b[39m'\u001b[39m\u001b[39mCompany_Name\u001b[39m\u001b[39m'\u001b[39m, \u001b[39m'\u001b[39m\u001b[39mLocation\u001b[39m\u001b[39m'\u001b[39m, \u001b[39m'\u001b[39m\u001b[39mSector\u001b[39m\u001b[39m'\u001b[39m]\n\u001b[0;32m     <a href='vscode-notebook-cell:/d%3A/GitHub_Projects/esg-profile/code/module1/global-companies.ipynb#X16sZmlsZQ%3D%3D?line=14'>15</a>\u001b[0m \u001b[39mfor\u001b[39;00m data \u001b[39min\u001b[39;00m company_data:\n\u001b[1;32m---> <a href='vscode-notebook-cell:/d%3A/GitHub_Projects/esg-profile/code/module1/global-companies.ipynb#X16sZmlsZQ%3D%3D?line=15'>16</a>\u001b[0m     subs \u001b[39m=\u001b[39m re\u001b[39m.\u001b[39;49msub(\u001b[39m'\u001b[39;49m\u001b[39mN/A\u001b[39;49m\u001b[39m'\u001b[39;49m, \u001b[39m'\u001b[39;49m\u001b[39m'\u001b[39;49m, data)\u001b[39m.\u001b[39mstrip() \u001b[39m# substitute N/A with blanks\u001b[39;00m\n\u001b[0;32m     <a href='vscode-notebook-cell:/d%3A/GitHub_Projects/esg-profile/code/module1/global-companies.ipynb#X16sZmlsZQ%3D%3D?line=16'>17</a>\u001b[0m     subs \u001b[39m=\u001b[39m re\u001b[39m.\u001b[39msub(\u001b[39m'\u001b[39m\u001b[39m\\n\u001b[39;00m\u001b[39m-\u001b[39m\u001b[39m'\u001b[39m, \u001b[39m'\u001b[39m\u001b[39m-\u001b[39m\u001b[39m'\u001b[39m, data)\u001b[39m.\u001b[39mstrip() \u001b[39m# substitute \\n- with -\u001b[39;00m\n\u001b[0;32m     <a href='vscode-notebook-cell:/d%3A/GitHub_Projects/esg-profile/code/module1/global-companies.ipynb#X16sZmlsZQ%3D%3D?line=17'>18</a>\u001b[0m     splits \u001b[39m=\u001b[39m subs\u001b[39m.\u001b[39msplit(\u001b[39m'\u001b[39m\u001b[39m\\n\u001b[39;00m\u001b[39m'\u001b[39m) \u001b[39m# split into elements by \\n\u001b[39;00m\n",
      "File \u001b[1;32mc:\\Users\\praki\\anaconda3\\envs\\esgprofile-py38\\lib\\re.py:210\u001b[0m, in \u001b[0;36msub\u001b[1;34m(pattern, repl, string, count, flags)\u001b[0m\n\u001b[0;32m    203\u001b[0m \u001b[39mdef\u001b[39;00m \u001b[39msub\u001b[39m(pattern, repl, string, count\u001b[39m=\u001b[39m\u001b[39m0\u001b[39m, flags\u001b[39m=\u001b[39m\u001b[39m0\u001b[39m):\n\u001b[0;32m    204\u001b[0m     \u001b[39m\"\"\"Return the string obtained by replacing the leftmost\u001b[39;00m\n\u001b[0;32m    205\u001b[0m \u001b[39m    non-overlapping occurrences of the pattern in string by the\u001b[39;00m\n\u001b[0;32m    206\u001b[0m \u001b[39m    replacement repl.  repl can be either a string or a callable;\u001b[39;00m\n\u001b[0;32m    207\u001b[0m \u001b[39m    if a string, backslash escapes in it are processed.  If it is\u001b[39;00m\n\u001b[0;32m    208\u001b[0m \u001b[39m    a callable, it's passed the Match object and must return\u001b[39;00m\n\u001b[0;32m    209\u001b[0m \u001b[39m    a replacement string to be used.\"\"\"\u001b[39;00m\n\u001b[1;32m--> 210\u001b[0m     \u001b[39mreturn\u001b[39;00m _compile(pattern, flags)\u001b[39m.\u001b[39;49msub(repl, string, count)\n",
      "\u001b[1;31mTypeError\u001b[0m: expected string or bytes-like object"
     ]
    }
   ],
   "source": [
    "trim_data(company_data)"
   ]
  },
  {
   "cell_type": "code",
   "execution_count": null,
   "metadata": {},
   "outputs": [],
   "source": []
  }
 ],
 "metadata": {
  "kernelspec": {
   "display_name": "Python 3.8.13 ('esgprofile-py38')",
   "language": "python",
   "name": "python3"
  },
  "language_info": {
   "codemirror_mode": {
    "name": "ipython",
    "version": 3
   },
   "file_extension": ".py",
   "mimetype": "text/x-python",
   "name": "python",
   "nbconvert_exporter": "python",
   "pygments_lexer": "ipython3",
   "version": "3.8.13"
  },
  "orig_nbformat": 2,
  "vscode": {
   "interpreter": {
    "hash": "d0de9107ba4823a0f175877f0a7fcb4f34c74d193fb85e9644df2fda6ef79096"
   }
  }
 },
 "nbformat": 4,
 "nbformat_minor": 2
}
