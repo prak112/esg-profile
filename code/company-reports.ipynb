{
 "metadata": {
  "language_info": {
   "codemirror_mode": {
    "name": "ipython",
    "version": 3
   },
   "file_extension": ".py",
   "mimetype": "text/x-python",
   "name": "python",
   "nbconvert_exporter": "python",
   "pygments_lexer": "ipython3",
   "version": "3.8.5"
  },
  "orig_nbformat": 2,
  "kernelspec": {
   "name": "python385jvsc74a57bd0c6e04f7a5ac130eeb20013286f1255cff64e2a49ad6e6267f06a989cb4e99f9c",
   "display_name": "Python 3.8.5 64-bit ('py3x-tf2x': conda)"
  }
 },
 "nbformat": 4,
 "nbformat_minor": 2,
 "cells": [
  {
   "source": [
    "# ESG profile Key-Initiatives (KIs) from Companies' Annual reports\n",
    "> * Extract top global Companies list (from Report evaluated by PwC with Bloomberg)\n",
    "> * Extract KIs from Companys' Annual reports"
   ],
   "cell_type": "markdown",
   "metadata": {}
  },
  {
   "cell_type": "code",
   "execution_count": 17,
   "metadata": {},
   "outputs": [],
   "source": [
    "# Import neccessary libraries\n",
    "\n",
    "import numpy as np\n",
    "import pandas as pd\n",
    "import matplotlib.pyplot as plt\n",
    "import seaborn as sns"
   ]
  },
  {
   "cell_type": "code",
   "execution_count": 18,
   "metadata": {},
   "outputs": [],
   "source": [
    "# Extraction libraries\n",
    "\n",
    "#! pip install PyPDF2\n",
    "import PyPDF2\n",
    "import re"
   ]
  },
  {
   "cell_type": "code",
   "execution_count": 22,
   "metadata": {},
   "outputs": [
    {
     "output_type": "stream",
     "name": "stdout",
     "text": [
      "Total Pages of Report: 17\n"
     ]
    }
   ],
   "source": [
    "# Extract PDF data\n",
    "\n",
    "pdf_file = open(r\"D:\\GitHub_Projects\\esg-profile\\dataset\\global-top-100-companies-june-2020-update.pdf\", 'rb')\n",
    "pdf_data = PyPDF2.PdfFileReader(pdf_file)\n",
    "print(\"Total Pages of Report:\", pdf_data.numPages)"
   ]
  },
  {
   "cell_type": "code",
   "execution_count": 23,
   "metadata": {},
   "outputs": [
    {
     "output_type": "stream",
     "name": "stdout",
     "text": [
      "['PwC \\n| Global Top 100 companies by market capitalisation\\n11Top 100 global companies 1\\n-20\\nSource: Bloomberg with PwC analysis\\n30 June 2020\\n31 March 2020\\n31 Dec 2019\\nRank\\nCompany name\\nLocation\\nSector\\nRank +/\\n-(VS Mar 2020)\\nRank +/\\n-(VS Dec 2019)\\nMarket  \\ncapitalisation \\n\\n($bn)\\nRank\\nMarket \\n\\ncapitalisation \\n\\n($bn)\\nRank\\nMarket \\ncapitalisation \\n($bn)\\n1SAUDI ARABIAN OI \\nSaudi Arabia \\nOil & Gas \\n001,741 \\n1 1,602 \\n1 1,879 \\n2APPLE INC \\nUnited States \\nTechnology \\n101,568 \\n3 1,113 \\n2 1,305 \\n3MICROSOFT CORP \\nUnited States \\nTechnology \\n-101,505 \\n2 1,200 \\n3 1,203 \\n4AMAZON.COM INC \\nUnited States \\nConsumer Services \\n011,337 \\n4 971 5 916 5ALPHABET INC\\n-A United States \\nTechnology \\n0-1953 5 799 4 923 6FACEBOOK INC\\n-A United States \\nTechnology \\n10629 7 475 6 585 7TENCENT\\nMainland China \\nTechnology \\n12599 8 469 9 461 8ALIBABA GRP\\n-ADR \\nMainland China \\nConsumer Services \\n-2-1577 6 522 7 569 9BERKSHIRE HATH\\n-A United States \\nFinancials \\n0-1430 9 443 8 554 10VISA INC\\n-CLASS A \\nUnited States \\nFinancials \\n22372 12 316 12 370 11JOHNSON&JOHNSON \\nUnited States \\nHealth Care \\n-10366 10 346 11 384 12WALMART INC \\nUnited States \\nConsumer Services \\n-11337 11 322 13 337 13NESTLE SA\\n-REG \\nSwitzerland \\nConsumer Goods \\n01328 13 306 14 323 14ROCHE HLDG\\n-GENUS \\nSwitzerland \\nHealth Care \\n09300 14 280 23 279 15MASTERCARD INC\\n-A United States \\nFinancials \\n32294 18 243 17 301 16PROCTER & GAMBLE \\nUnited States \\nConsumer Goods \\n00291 16 272 16 311 17JPMORGAN CHASE \\nUnited States \\nFinancials \\n-2-7283 15 277 10 437 18UNITEDHEALTH GRP \\nUnited States \\nHealth Care \\n16275 19 237 24 279 19TSMC \\nTaiwan \\nTechnology \\n12274 20 235 21 287 20HOME DEPOT INC \\nUnited States \\nConsumer Services \\n79265 27 201 29 238 ', 'PwC \\n| Global Top 100 companies by market capitalisation\\n12Top 100 global companies 21\\n-40Source: Bloomberg with PwC analysis\\n30 June 2020\\n31 March 2020\\n31 Dec 2019\\nRank\\nCompany name\\nLocation\\nSector\\nRank +/\\n-(VS Mar \\n2020)Rank +/\\n-(VS \\nDec 2019)\\nMarket  \\ncapitalisation \\n\\n($bn)\\nRank\\nMarket \\ncapitalisation \\n($bn)\\nRank\\nMarket \\n\\ncapitalisation \\n\\n($bn)\\n21SAMSUNG ELECTRON \\nSouth Korea \\nTechnology \\n0-1260 21 234 20 288 22KWEICHOW MOUTA\\n-A Mainland China \\nConsumer Goods \\n618260 28 197 40 213 23INTEL CORP \\nUnited States \\nTechnology \\n-13254 22 231 26 260 24IND & COMM BK\\n-A Mainland China \\nFinancials \\n-7-5247 17 256 19 295 25NVIDIA CORP \\nUnited States \\nTechnology \\n1638226 41 161 63 144 26VERIZON COMMUNIC \\nUnited States \\nTelecommunications \\n-31226 23 222 27 254 27LVMH MOET HENNE \\nFrance \\nConsumer Goods \\n54220 32 188 31 235 28AT&T INC \\nUnited States \\nTelecommunications \\n-4-6216 24 209 22 285 29NOVARTIS AG\\n-REG \\nSwitzerland \\nHealth Care \\n-4-1213 25 209 28 240 30ADOBE INC \\nUnited States \\nTechnology \\n1422205 44 153 52 160 31BANK OF AMERICA \\nUnited States \\nFinancials \\n2-16203 33 185 15 317 32TOYOTA MOTOR \\nJapan \\nConsumer Goods \\n-31203 29 197 33 232 33PAYPAL HOLDINGS \\nUnited States \\nIndustrials \\n4245202 75 112 78 127 34CCB-H Mainland China \\nFinancials \\n-84201 26 205 38 218 35WALT DISNEY CO \\nUnited States \\nConsumer Services \\n1-10198 36 174 25 261 36TESLA INC \\nUnited States \\nConsumer Goods \\n47-197 83 96 N/A \\n75 37NETFLIX INC \\nUnited States \\nConsumer Services \\n229195 39 165 66 142 38CISCO SYSTEMS \\nUnited States \\nTechnology \\n04192 38 167 42 203 39MERCK & CO \\nUnited States \\nHealth Care \\n-9-5191 30 195 34 232 40COCA\\n-COLA CO/THE \\nUnited States \\nConsumer Goods \\n-9-10187 31 190 30 237 ', \"PwC \\n| Global Top 100 companies by market capitalisation\\n13Top 100 global companies 41\\n-60Source: Bloomberg with PwC analysis\\n30 June 2020\\n31 March 2020\\n31 Dec 2019\\nRank\\nCompany name\\nLocation\\nSector\\nRank +/\\n-(VS Mar \\n2020)Rank +/\\n-(VS \\nDec 2019)\\nMarket  \\ncapitalisation \\n\\n($bn)\\nRank\\nMarket \\ncapitalisation \\n($bn)\\nRank\\nMarket \\n\\ncapitalisation \\n\\n($bn)\\n41EXXON MOBIL CORP \\nUnited States \\nOil & Gas \\n1-23187 42 161 18 295 42PING AN \\nMainland China \\nFinancials \\n-7-5183 35 179 37 221 43PEPSICO INC \\nUnited States \\nConsumer Goods \\n-60182 37 167 43 191 44PFIZER INC \\nUnited States \\nHealth Care \\n-10-5181 34 181 39 217 45L'OREAL \\nFrance \\nConsumer Goods \\n25179 47 146 50 165 46COMCAST CORP\\n-A United States \\nConsumer Services \\n-3-5178 43 157 41 205 47ABBVIE INC \\nUnited States \\nHealth Care \\n2726170 74 113 73 131 48SAP SE Germany \\nTechnology \\n21169 50 136 49 166 49ORACLE CORP \\nUnited States \\nTechnology \\n-4-1168 45 152 48 170 50SALESFORCE.COM \\nUnited States \\nTechnology \\n612165 56 129 62 144 51CHEVRON CORP \\nUnited States \\nOil & Gas \\n0-16164 51 136 35 228 52ABC-H Mainland China \\nFinancials \\n-12-7164 40 164 45 183 53ABBOTT LABS \\nUnited States \\nHealth Care \\n-42157 49 139 55 154 54ELI LILLY & CO \\nUnited States \\nHealth Care \\n028156 54 133 82 126 55ASML HOLDING NV \\nNetherlands \\nTechnology \\n1629154 71 113 84 126 56NIKE INC \\n-CL B \\nUnited States \\nConsumer Goods \\n1-2154 57 129 54 158 57NOVO NORDISK\\n-B Denmark \\nHealth Care \\n-910149 48 144 67 139 58PROSUS NV \\nNetherlands \\nTechnology \\n1530149 73 113 88 122 59RELIANCE INDS \\nIndia \\nOil & Gas \\n3210148 91 94 69 135 60THERMO FISHER \\nUnited States \\nHealth Care \\n1215145 72 113 75 130 \", 'PwC \\n| Global Top 100 companies by market capitalisation\\n14Top 100 global companies 61\\n-80\\nSource: Bloomberg with PwC analysis\\n30 June 2020\\n31 March 2020\\n31 Dec 2019\\nRank\\nCompany name\\nLocation\\nSector\\nRank +/\\n-(VS Mar \\n2020)Rank +/\\n-(VS \\nDec 2019)\\nMarket  \\ncapitalisation \\n\\n($bn)\\nRank\\nMarket \\ncapitalisation \\n($bn)\\nRank\\nMarket \\n\\ncapitalisation \\n\\n($bn)\\n61UNILEVER NV \\nNetherlands \\nConsumer Goods \\n-6-4142 55 131 57 151 62AMGEN INC \\nUnited States \\nHealth Care \\n03139 62 120 65 143 63CHINA MOBILE \\nMainland China\\nTelecommunications \\n-17-16138 46 152 47 172 64MCDONALDS CORP \\nUnited States \\nConsumer Services \\n-4-5137 60 123 59 149 65ACCENTURE PLC\\n-A Ireland \\nIndustrials \\n145136 79 104 70 134 66ASTRAZENECA PLC \\nUnited Kingdom \\nHealth Care \\n-26136 64 117 72 132 67BANK OF CHINA\\n-H Mainland China \\nFinancials \\n-15-7136 52 136 60 147 68COSTCO WHOLESALE \\nUnited States \\nConsumer Services \\n-98134 59 126 76 130 69BRISTOL\\n-MYER SQB \\nUnited States \\nHealth Care \\n-11-11133 58 126 58 150 70MEITUAN DIANPI\\n-B Mainland China \\nConsumer Services \\n--131 N/A \\n70 N/A \\n76 71T-MOBILE US INC \\nUnited States \\nTelecommunications \\n--130 N/A \\n72 N/A \\n67 72SANOFI \\nFrance \\nHealth Care \\n411129 76 110 83 126 73BROADCOM INC \\nUnited States \\nTechnology \\n1412125 87 95 85 126 74DANAHER CORP \\nUnited States \\nHealth Care \\n1025125 84 96 99 110 75MEDTRONIC PLC \\nIreland \\nHealth Care \\n-14-19122 61 121 56 152 76ROYAL DUTCH SH\\n-A United Kingdom \\nOil & Gas \\n-23-44121 53 135 32 234 77CHARTER COMMUN\\n-A United States \\nConsumer Services \\n-1113121 66 116 90 120 78CHINA MERCH BK\\n-A Mainland China \\nFinancials \\n-11-10119 67 115 68 135 79NEXTERA ENERGY \\nUnited States \\nUtilities \\n-1613117 63 118 92 118 80TEXAS INSTRUMENT \\nUnited States \\nTechnology \\n129115 92 93 89 120 ', \"PwC \\n| Global Top 100 companies by market capitalisation\\n15Top 100 global companies 81\\n-100\\nSource: Bloomberg with PwC analysis\\n30 June 2020\\n31 March 2020\\n31 Dec 2019\\nRank\\nCompany name\\nLocation\\nSector\\nRank +/\\n-(VS Mar \\n2020)Rank +/\\n-(VS \\nDec 2019)\\nMarket  \\ncapitalisation \\n\\n($bn)\\nRank\\nMarket \\n\\ncapitalisation \\n\\n($bn)\\nRank\\nMarket \\n\\ncapitalisation \\n($bn)\\n81BHP GROUP LTD \\nAustralia \\nBasic Materials \\n--7114 N/A \\n85 74 130 82UNION PAC CORP \\nUnited States \\nIndustrials \\n04113 82 97 86 126 83AMERICAN TOWER C \\nUnited States \\nFinancials \\n2-113 85 96 N/A \\n102 84SHOPIFY INC \\n-A Canada \\nTechnology \\n--112 N/A \\n49 N/A \\n46 85AIA \\nHong Kong SAR\\nFinancials \\n-8-6111 77 109 79 127 86LINDE PLC \\nUnited Kingdom \\nBasic Materials \\n99110 95 92 95 114 87PHILIP MORRIS IN \\nUnited States \\nConsumer Goods \\n-18-16110 69 114 71 132 88IBM \\nUnited States \\nTechnology \\n-73110 81 99 91 119 89CITIGROUP INC \\nUnited States \\nFinancials \\n9-43106 98 88 46 174 90SOFTBANK GROUP C \\nJapan \\nTelecommunications \\n--105 N/A \\n73 N/A \\n92 91WELLS FARGO & CO \\nUnited States \\nFinancials \\n-26-55105 65 117 36 228 92BOEING CO/THE \\nUnited States \\nIndustrials \\n--48105 N/A \\n84 44 183 93TATA CONSULTANCY \\nIndia \\nTechnology \\n33104 96 91 96 114 94PETROCHINA\\n-H Mainland China \\nOil & Gas \\n-24-33104 70 113 61 146 95PINDUODUO INC \\nMainland China \\nConsumer Services \\n--104 N/A \\n42 N/A \\n44 96QUALCOMM INC \\nUnited States \\nTechnology \\n--103 N/A \\n77 N/A \\n101 97LOCKHEED MARTIN \\nUnited States \\nIndustrials \\n-11-102 86 96 N/A \\n110 98LOWE'S COS INC \\nUnited States \\nConsumer Services \\n--101 N/A \\n65 N/A \\n92 99GLAXOSMITHKLINE \\nUnited Kingdom \\nHealth Care \\n-10-6101 89 94 93 118 100KEYENCE CORP \\nJapan \\nIndustrials \\n--101 N/A \\n79 N/A \\n86 \"]\n"
     ]
    }
   ],
   "source": [
    "# Extract tables from pdf_data\n",
    "pages = [10, 11, 12, 13, 14]\n",
    "table_data = []\n",
    "\n",
    "for page in pages:\n",
    "    table = pdf_data.getPage(page).extractText()\n",
    "    table_data.append(table)\n",
    "\n",
    "print(table_data)"
   ]
  },
  {
   "cell_type": "code",
   "execution_count": 24,
   "metadata": {},
   "outputs": [],
   "source": [
    "# Filter for data from columns - 'Rank', 'Company_Name', 'Country', 'Sector'\n",
    "#' N/A \\n' ---'space CAPSletter character CAPSletter space nextline'-->to omit\n",
    "\n",
    "ranks = list(range(1, 101))\n",
    "company_data = []\n",
    "\n",
    "for table in list(range(0,5)):\n",
    "    regex = re.findall('[A-Z\\s\\W?a-z]+(?:\\s)+(?:\\n)+', table_data[table]) # regex and filter_data avoid all formatting-space. \n",
    "    filter_data = [ele for ele in regex if ele != ' ' and ' \\n' and ',' and '-']\n",
    "    if table == 0:\n",
    "        company_data.append(filter_data[2:])\n",
    "    else:\n",
    "        company_data.append(filter_data[4:])"
   ]
  },
  {
   "cell_type": "code",
   "execution_count": 25,
   "metadata": {},
   "outputs": [
    {
     "output_type": "execute_result",
     "data": {
      "text/plain": [
       "['SAMSUNG ELECTRON \\nSouth Korea \\nTechnology \\n',\n",
       " 'KWEICHOW MOUTA\\n-A Mainland China \\nConsumer Goods \\n',\n",
       " 'INTEL CORP \\nUnited States \\nTechnology \\n',\n",
       " 'IND & COMM BK\\n-A Mainland China \\nFinancials \\n',\n",
       " 'NVIDIA CORP \\nUnited States \\nTechnology \\n',\n",
       " 'VERIZON COMMUNIC \\nUnited States \\nTelecommunications \\n',\n",
       " 'LVMH MOET HENNE \\nFrance \\nConsumer Goods \\n',\n",
       " 'AT&T INC \\nUnited States \\nTelecommunications \\n',\n",
       " 'NOVARTIS AG\\n-REG \\nSwitzerland \\nHealth Care \\n',\n",
       " 'ADOBE INC \\nUnited States \\nTechnology \\n',\n",
       " 'BANK OF AMERICA \\nUnited States \\nFinancials \\n',\n",
       " 'TOYOTA MOTOR \\nJapan \\nConsumer Goods \\n',\n",
       " 'PAYPAL HOLDINGS \\nUnited States \\nIndustrials \\n',\n",
       " 'CCB-H Mainland China \\nFinancials \\n',\n",
       " 'WALT DISNEY CO \\nUnited States \\nConsumer Services \\n',\n",
       " 'TESLA INC \\nUnited States \\nConsumer Goods \\n',\n",
       " ' N/A \\n',\n",
       " 'NETFLIX INC \\nUnited States \\nConsumer Services \\n',\n",
       " 'CISCO SYSTEMS \\nUnited States \\nTechnology \\n',\n",
       " 'MERCK & CO \\nUnited States \\nHealth Care \\n',\n",
       " 'COCA\\n-COLA CO/THE \\nUnited States \\nConsumer Goods \\n']"
      ]
     },
     "metadata": {},
     "execution_count": 25
    }
   ],
   "source": [
    "company_data[1]"
   ]
  },
  {
   "cell_type": "code",
   "execution_count": 26,
   "metadata": {},
   "outputs": [],
   "source": [
    "top1to20 = company_data[0]\n",
    "top20to40 = company_data[1]\n",
    "top40to60 = company_data[2]\n",
    "top60to80 = company_data[3]\n",
    "top80to100 = company_data[4]"
   ]
  },
  {
   "source": [
    "### [*Corrections To Make:*]\n",
    "* > | | solve missing-data problem, during iteration in trim_data() \n",
    "* > ERROR-cause #1: repetition of column name, instead add all values relevant to column in one-go.\n",
    "* > ERROR-cause #2: '\\n' tag at improper places within text, to sort and filter"
   ],
   "cell_type": "markdown",
   "metadata": {}
  },
  {
   "cell_type": "code",
   "execution_count": 32,
   "metadata": {},
   "outputs": [
    {
     "output_type": "execute_result",
     "data": {
      "text/plain": [
       "{'Company_Name': ['SAMSUNG ELECTRON',\n",
       "  'KWEICHOW MOUTA',\n",
       "  'INTEL CORP',\n",
       "  'IND & COMM BK',\n",
       "  'NVIDIA CORP',\n",
       "  'VERIZON COMMUNIC',\n",
       "  'LVMH MOET HENNE',\n",
       "  'AT&T INC',\n",
       "  'NOVARTIS AG-REG',\n",
       "  'ADOBE INC',\n",
       "  'BANK OF AMERICA',\n",
       "  'TOYOTA MOTOR',\n",
       "  'PAYPAL HOLDINGS',\n",
       "  'CCB-H Mainland China',\n",
       "  'WALT DISNEY CO',\n",
       "  'TESLA INC',\n",
       "  'N/A',\n",
       "  'NETFLIX INC',\n",
       "  'CISCO SYSTEMS',\n",
       "  'MERCK & CO',\n",
       "  'COCA'],\n",
       " 'Location': ['South Korea',\n",
       "  '-A Mainland China',\n",
       "  'United States',\n",
       "  '-A Mainland China',\n",
       "  'United States',\n",
       "  'United States',\n",
       "  'France',\n",
       "  'United States',\n",
       "  '',\n",
       "  'United States',\n",
       "  'United States',\n",
       "  'Japan',\n",
       "  'United States',\n",
       "  'Financials',\n",
       "  'United States',\n",
       "  'United States',\n",
       "  'United States',\n",
       "  'United States',\n",
       "  'United States',\n",
       "  '-COLA CO/THE'],\n",
       " 'Sector': ['Technology',\n",
       "  'Consumer Goods',\n",
       "  'Technology',\n",
       "  'Financials',\n",
       "  'Technology',\n",
       "  'Telecommunications',\n",
       "  'Consumer Goods',\n",
       "  'Telecommunications',\n",
       "  'Switzerland',\n",
       "  'Technology',\n",
       "  'Financials',\n",
       "  'Consumer Goods',\n",
       "  'Industrials',\n",
       "  'Consumer Services',\n",
       "  'Consumer Goods',\n",
       "  'Consumer Services',\n",
       "  'Technology',\n",
       "  'Health Care',\n",
       "  'United States']}"
      ]
     },
     "metadata": {},
     "execution_count": 32
    }
   ],
   "source": [
    "data_dict = {}\n",
    "\n",
    "data = company_data[1]\n",
    "company_name = []\n",
    "location = []\n",
    "sector = []\n",
    "\n",
    "for d in data:\n",
    "    subs = re.sub('N/A', '', d).strip() # substitute N/A with blanks\n",
    "    subs = re.sub('\\n-', '-', d).strip() # substitute \\n- with -\n",
    "    subs = re.sub('\\n-A', '-A\\n', d).strip() # substitute \\n-A with -A\\n\n",
    "    subs = re.sub('\\n-REG', '-REG\\n', d).strip() # substitute \\n-REG with -REG\\n\n",
    "    \n",
    "    splits = subs.split('\\n') # split into elements by \\n\n",
    "    stripped = [split.strip() for split in splits if split != '']\n",
    "    \n",
    "# Use Conditionals --> if/elif/else --> to alter wrongly assigned Values to Keys\n",
    "# Use Exception Handler --> try/except/finally\n",
    "    try:\n",
    "        # Collect Company_Name as a list --> Add as Value to 'Company_Name' Key in data_dict\n",
    "        company_name.append(stripped[0])   \n",
    "        \n",
    "        # Collect Location as a list --> Add as Value to 'Location' Key in data_dict\n",
    "        location.append(stripped[1]) \n",
    "        \n",
    "        # Collect Sector as a list --> Add as Value to 'Sector' Key in data_dict\n",
    "        sector.append(stripped[2])\n",
    "\n",
    "    except IndexError:\n",
    "        continue\n",
    "\n",
    "data_dict['Company_Name'] = company_name\n",
    "data_dict['Location'] = location\n",
    "data_dict['Sector'] = sector\n",
    "\n",
    "#stripped\n",
    "data_dict"
   ]
  },
  {
   "cell_type": "code",
   "execution_count": 20,
   "metadata": {},
   "outputs": [],
   "source": [
    "\n",
    "def trim_data(company_data):\n",
    "    \"\"\"\n",
    "    substitute tags, strip spaces & split string into elements\n",
    "    \n",
    "    Args:\n",
    "    company_data - list containing Company_Name, Location, Sector\n",
    "    \n",
    "    Returns:\n",
    "    new_data - dictionary containing formatted data as per columns\n",
    "\n",
    "    \"\"\"\n",
    "    new_data = {}\n",
    "    columns = ['Company_Name', 'Location', 'Sector']\n",
    "\n",
    "    for data in company_data:\n",
    "        subs = re.sub('N/A', '', data).strip() # substitute N/A with blanks\n",
    "        subs = re.sub('\\n-', '-', data).strip() # substitute \\n- with -\n",
    "        splits = subs.split('\\n') # split into elements by \\n\n",
    "        stripped = [split.strip() for split in splits if split != ''] \n",
    "        for column, element in zip(columns, stripped):  # iterate columns and data to update dictionary\n",
    "            new_data[column] = element # ERROR-cause: repetition of column name, instead add all values relevant to column in one-go.\n",
    "\n",
    "    return new_data"
   ]
  },
  {
   "cell_type": "code",
   "execution_count": null,
   "metadata": {},
   "outputs": [],
   "source": []
  },
  {
   "cell_type": "code",
   "execution_count": null,
   "metadata": {},
   "outputs": [],
   "source": []
  },
  {
   "cell_type": "code",
   "execution_count": null,
   "metadata": {},
   "outputs": [],
   "source": []
  }
 ]
}