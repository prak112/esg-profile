{
 "cells": [
  {
   "cell_type": "markdown",
   "metadata": {},
   "source": [
    "# Module 1 - Key Sustainability Initiatives (KSIs) FROM Companies' Annual reports\n",
    "\n",
    " 1. Extract top global Companies list, from [Report evaluated by PwC with Bloomberg](https://github.com/prak112/esg-profile/blob/4bebecd15332ae550aca1627835b451ce2bdab4f/dataset) and build a dataframe\n",
    " <br></br>\n",
    " 2. Web Search for each Company's Annual Report/Annual Sustainability Report\n",
    "    * **If available, Extract KSIs**\n",
    "    * If NA, mark companies KSI data as NA or null **(for probable interpretation as - ESG proxy data/outsourced ESG activities)**\n"
   ]
  },
  {
   "cell_type": "code",
   "execution_count": 2,
   "metadata": {},
   "outputs": [],
   "source": [
    "# Import neccessary libraries\n",
    "\n",
    "import numpy as np\n",
    "import pandas as pd\n",
    "import matplotlib.pyplot as plt\n",
    "import seaborn as sns\n",
    "\n",
    "# Extraction libraries\n",
    "\n",
    "! pip install PyPDF2 --quiet\n",
    "print(\"Installed PyPDF2\")\n",
    "import PyPDF2\n",
    "import re"
   ]
  },
  {
   "cell_type": "code",
   "execution_count": 6,
   "metadata": {},
   "outputs": [
    {
     "name": "stdout",
     "output_type": "stream",
     "text": [
      "Total Pages of Report: 17\n"
     ]
    }
   ],
   "source": [
    "# Extract PDF data\n",
    "\n",
    "pdf_file = open(r\"\\dataset\\global-top-100-companies-june-2020-update.pdf\", 'rb')\n",
    "pdf_data = PyPDF2.PdfFileReader(pdf_file)\n",
    "print(\"Total Pages of Report:\", pdf_data.numPages)"
   ]
  },
  {
   "cell_type": "code",
   "execution_count": 8,
   "metadata": {},
   "outputs": [
    {
     "name": "stdout",
     "output_type": "stream",
     "text": [
      "['PwC \\n| Global Top 100 companies by market capitalisation\\n11Top 100 global companies 1\\n-20\\nSource: Bloomberg with PwC analysis\\n30 June 2020\\n31 March 2020\\n31 Dec 2019\\nRank\\nCompany name\\nLocation\\nSector\\nRank +/\\n-(VS Mar 2020)\\nRank +/\\n-(VS Dec 2019)\\nMarket  \\ncapitalisation \\n\\n($bn)\\nRank\\nMarket \\n\\ncapitalisation \\n\\n($bn)\\nRank\\nMarket \\ncapitalisation \\n($bn)\\n1SAUDI ARABIAN OI \\nSaudi Arabia \\nOil & Gas \\n001,741 \\n1 1,602 \\n1 1,879 \\n2APPLE INC \\nUnited States \\nTechnology \\n101,568 \\n3 1,113 \\n2 1,305 \\n3MICROSOFT CORP \\nUnited States \\nTechnology \\n-101,505 \\n2 1,200 \\n3 1,203 \\n4AMAZON.COM INC \\nUnited States \\nConsumer Services \\n011,337 \\n4 971 5 916 5ALPHABET INC\\n-A United States \\nTechnology \\n0-1953 5 799 4 923 6FACEBOOK INC\\n-A United States \\nTechnology \\n10629 7 475 6 585 7TENCENT\\nMainland China \\nTechnology \\n12599 8 469 9 461 8ALIBABA GRP\\n-ADR \\nMainland China \\nConsumer Services \\n-2-1577 6 522 7 569 9BERKSHIRE HATH\\n-A United States \\nFinancials \\n0-1430 9 443 8 554 10VISA INC\\n-CLASS A \\nUnited States \\nFinancials \\n22372 12 316 12 370 11JOHNSON&JOHNSON \\nUnited States \\nHealth Care \\n-10366 10 346 11 384 12WALMART INC \\nUnited States \\nConsumer Services \\n-11337 11 322 13 337 13NESTLE SA\\n-REG \\nSwitzerland \\nConsumer Goods \\n01328 13 306 14 323 14ROCHE HLDG\\n-GENUS \\nSwitzerland \\nHealth Care \\n09300 14 280 23 279 15MASTERCARD INC\\n-A United States \\nFinancials \\n32294 18 243 17 301 16PROCTER & GAMBLE \\nUnited States \\nConsumer Goods \\n00291 16 272 16 311 17JPMORGAN CHASE \\nUnited States \\nFinancials \\n-2-7283 15 277 10 437 18UNITEDHEALTH GRP \\nUnited States \\nHealth Care \\n16275 19 237 24 279 19TSMC \\nTaiwan \\nTechnology \\n12274 20 235 21 287 20HOME DEPOT INC \\nUnited States \\nConsumer Services \\n79265 27 201 29 238 ']\n"
     ]
    }
   ],
   "source": [
    "# Extract tables from pdf_data\n",
    "pages = [10, 11, 12, 13, 14]\n",
    "table_data = []\n",
    "\n",
    "for page in pages:\n",
    "    table = pdf_data.getPage(page).extractText()\n",
    "    table_data.append(table)\n",
    "\n",
    "print(table_data[:1])"
   ]
  },
  {
   "cell_type": "code",
   "execution_count": 10,
   "metadata": {},
   "outputs": [],
   "source": [
    "#' N/A \\n' ---'space CAPSletter character CAPSletter space nextline'-->to omit\n",
    "\n",
    "ranks = list(range(1, 101))\n",
    "company_data = []\n",
    "\n",
    "for table in list(range(0,5)):\n",
    "    regex = re.findall('[A-Z\\s\\W?a-z]+(?:\\s)+(?:\\n)+', table_data[table]) # regex and filter_data avoid all formatting-space. \n",
    "    filter_data = [ele for ele in regex if ele != ' ' and ' \\n' and ',' and '-']\n",
    "    if table == 0:\n",
    "        company_data.append(filter_data[2:])\n",
    "    else:\n",
    "        company_data.append(filter_data[4:])"
   ]
  },
  {
   "cell_type": "code",
   "execution_count": 12,
   "metadata": {},
   "outputs": [
    {
     "data": {
      "text/plain": [
       "['EXXON MOBIL CORP \\nUnited States \\nOil & Gas \\n',\n",
       " 'PING AN \\nMainland China \\nFinancials \\n',\n",
       " 'PEPSICO INC \\nUnited States \\nConsumer Goods \\n',\n",
       " 'PFIZER INC \\nUnited States \\nHealth Care \\n',\n",
       " \"L'OREAL \\nFrance \\nConsumer Goods \\n\",\n",
       " 'COMCAST CORP\\n-A United States \\nConsumer Services \\n',\n",
       " 'ABBVIE INC \\nUnited States \\nHealth Care \\n',\n",
       " 'SAP SE Germany \\nTechnology \\n',\n",
       " 'ORACLE CORP \\nUnited States \\nTechnology \\n',\n",
       " 'SALESFORCE.COM \\nUnited States \\nTechnology \\n',\n",
       " 'CHEVRON CORP \\nUnited States \\nOil & Gas \\n',\n",
       " 'ABC-H Mainland China \\nFinancials \\n',\n",
       " 'ABBOTT LABS \\nUnited States \\nHealth Care \\n',\n",
       " 'ELI LILLY & CO \\nUnited States \\nHealth Care \\n',\n",
       " 'ASML HOLDING NV \\nNetherlands \\nTechnology \\n',\n",
       " 'NIKE INC \\n-CL B \\nUnited States \\nConsumer Goods \\n',\n",
       " 'NOVO NORDISK\\n-B Denmark \\nHealth Care \\n',\n",
       " 'PROSUS NV \\nNetherlands \\nTechnology \\n',\n",
       " 'RELIANCE INDS \\nIndia \\nOil & Gas \\n',\n",
       " 'THERMO FISHER \\nUnited States \\nHealth Care \\n']"
      ]
     },
     "execution_count": 12,
     "metadata": {},
     "output_type": "execute_result"
    }
   ],
   "source": [
    "company_data[2]"
   ]
  },
  {
   "cell_type": "code",
   "execution_count": 14,
   "metadata": {},
   "outputs": [],
   "source": [
    "top1to20 = company_data[0]\n",
    "top20to40 = company_data[1]\n",
    "top40to60 = company_data[2]\n",
    "top60to80 = company_data[3]\n",
    "top80to100 = company_data[4]"
   ]
  },
  {
   "cell_type": "markdown",
   "metadata": {},
   "source": [
    "-----------------\n",
    "-----------------\n",
    "\n",
    "### [*PROGRESS So Far:*]\n",
    "* > *data_dict* output clear with **top1to20, top60to80 & top80to100** , i.e.,\n",
    "\n",
    "    > *All elements are equally distributed amongst columns :  True*\n",
    "* > ERROR in **top20to40 & top40t060** : \n",
    "    * > Exchange _'CCB-H Mainland China'_ in *Company_Name* to:\n",
    "        * 'CCB-H' in *Company_Name*\n",
    "        * 'China' in *Location*\n",
    "    * > Change _'NIKE INC \\n-CL B \\nUnited States'_ to _'NIKE INC-CL B \\nUnited States'_\n",
    "* > ERROR in **top60to80** :\n",
    "    * > Company Class (*-A, -B, -H..*) to be filtered out/combined with *Company_Name*\n",
    "\n",
    "--------------\n",
    "--------------"
   ]
  },
  {
   "cell_type": "code",
   "execution_count": 23,
   "metadata": {},
   "outputs": [
    {
     "name": "stdout",
     "output_type": "stream",
     "text": [
      "\u001b[1;31mDocstring:\u001b[0m\n",
      "S.find(sub[, start[, end]]) -> int\n",
      "\n",
      "Return the lowest index in S where substring sub is found,\n",
      "such that sub is contained within S[start:end].  Optional\n",
      "arguments start and end are interpreted as in slice notation.\n",
      "\n",
      "Return -1 on failure.\n",
      "\u001b[1;31mType:\u001b[0m      method_descriptor\n"
     ]
    }
   ],
   "source": [
    "?str.find"
   ]
  },
  {
   "cell_type": "code",
   "execution_count": 16,
   "metadata": {},
   "outputs": [],
   "source": [
    "data_dict = {}\n",
    "\n",
    "data = top40to60\n",
    "company_name = []\n",
    "location = []\n",
    "sector = []\n",
    "\n",
    "for ele in data:\n",
    "    subs = re.sub('N/A', '', ele).strip()   # substitute N/A with blanks  \n",
    "    subs = re.sub('\\n-REG', '-REG', ele).strip()    # substitute \\n-A with -A\\n,  substitute \\n-REG with -REG\\n  \n",
    "    splits = subs.split('\\n')    # split into groups by \\n\n",
    "    stripped = [split.strip() for split in splits if split != 'N/A' and '']     # split & filter elements\n",
    "    \n",
    "    try:    # to prevent any indexing errors\n",
    "        # Collect Company_Name as a list --> Add as Value to 'Company_Name' Key in data_dict\n",
    "        if stripped[0].find('Mainland China') == -1:\n",
    "            company_name.append(stripped[0])\n",
    "        else:\n",
    "            stripped[0].replace('Mainland China','China')\n",
    "            company_name.append(stripped[0])\n",
    "        \n",
    "        # Collect Location as a list --> Add as Value to 'Location' Key in data_dict\n",
    "        if stripped[1] != '-A Mainland China':\n",
    "            location.append(stripped[1])\n",
    "        else:\n",
    "            location.append(stripped[1].replace('-A Mainland China','China'))\n",
    "\n",
    "        # Collect Sector as a list --> Add as Value to 'Sector' Key in data_dict\n",
    "        sector.append(stripped[2])\n",
    "\n",
    "    except IndexError:\n",
    "        continue\n"
   ]
  },
  {
   "cell_type": "code",
   "execution_count": 18,
   "metadata": {},
   "outputs": [
    {
     "name": "stdout",
     "output_type": "stream",
     "text": [
      "Rank : [41, 42, 43, 44, 45, 46, 47, 48, 49, 50, 51, 52, 53, 54, 55, 56, 57, 58, 59, 60] \n",
      "\n",
      "Company_Name : ['EXXON MOBIL CORP', 'PING AN', 'PEPSICO INC', 'PFIZER INC', \"L'OREAL\", 'COMCAST CORP', 'ABBVIE INC', 'SAP SE Germany', 'ORACLE CORP', 'SALESFORCE.COM', 'CHEVRON CORP', 'ABC-H Mainland China', 'ABBOTT LABS', 'ELI LILLY & CO', 'ASML HOLDING NV', 'NIKE INC', 'NOVO NORDISK', 'PROSUS NV', 'RELIANCE INDS', 'THERMO FISHER'] \n",
      "\n",
      "Location : ['United States', 'Mainland China', 'United States', 'United States', 'France', '-A United States', 'United States', 'Technology', 'United States', 'United States', 'United States', 'Financials', 'United States', 'United States', 'Netherlands', '-CL B', '-B Denmark', 'Netherlands', 'India', 'United States'] \n",
      "\n",
      "Sector : ['Oil & Gas', 'Financials', 'Consumer Goods', 'Health Care', 'Consumer Goods', 'Consumer Services', 'Health Care', 'Technology', 'Technology', 'Oil & Gas', 'Health Care', 'Health Care', 'Technology', 'United States', 'Health Care', 'Technology', 'Oil & Gas', 'Health Care'] \n",
      "\n"
     ]
    }
   ],
   "source": [
    "data_dict['Rank'] = ranks[40:60]\n",
    "data_dict['Company_Name'] = company_name\n",
    "data_dict['Location'] = location\n",
    "data_dict['Sector'] = sector\n",
    "\n",
    "#stripped\n",
    "for key, val in data_dict.items():\n",
    "    print(key ,':', val,'\\n')"
   ]
  },
  {
   "cell_type": "code",
   "execution_count": 20,
   "metadata": {},
   "outputs": [
    {
     "name": "stdout",
     "output_type": "stream",
     "text": [
      "All elements are equally distributed amongst columns :  False\n",
      "20\n",
      "20\n",
      "20\n",
      "18\n"
     ]
    }
   ],
   "source": [
    "print(\"All elements are equally distributed amongst columns : \", len(ranks[20:40])==len(company_name)==len(location)==len(sector))\n",
    "print(len(ranks[20:40]))\n",
    "print(len(company_name))\n",
    "print(len(location))\n",
    "print(len(sector))\n"
   ]
  },
  {
   "cell_type": "code",
   "execution_count": 22,
   "metadata": {},
   "outputs": [],
   "source": [
    "\n",
    "def trim_data(company_data):\n",
    "    \"\"\"\n",
    "    substitute tags, strip spaces & split string into elements\n",
    "    \n",
    "    Args:\n",
    "    company_data - list containing Company_Name, Location, Sector\n",
    "    \n",
    "    Returns:\n",
    "    new_data - dictionary containing formatted data as per columns\n",
    "\n",
    "    \"\"\"\n",
    "    new_data = {}\n",
    "    columns = ['Company_Name', 'Location', 'Sector']\n",
    "\n",
    "    for data in company_data:\n",
    "        subs = re.sub('N/A', '', data).strip() # substitute N/A with blanks\n",
    "        subs = re.sub('\\n-', '-', data).strip() # substitute \\n- with -\n",
    "        splits = subs.split('\\n') # split into elements by \\n\n",
    "        stripped = [split.strip() for split in splits if split != ''] \n",
    "        for column, element in zip(columns, stripped):  # iterate columns and data to update dictionary\n",
    "            new_data[column] = element # ERROR-cause: repetition of column name, instead add all values relevant to column in one-go.\n",
    "\n",
    "    return new_data"
   ]
  },
  {
   "cell_type": "code",
   "execution_count": null,
   "metadata": {},
   "outputs": [],
   "source": []
  },
  {
   "cell_type": "code",
   "execution_count": null,
   "metadata": {},
   "outputs": [],
   "source": []
  },
  {
   "cell_type": "code",
   "execution_count": null,
   "metadata": {},
   "outputs": [],
   "source": []
  }
 ],
 "metadata": {
  "kernelspec": {
   "display_name": "Python 3.8.5 64-bit ('py3x-tf2x': conda)",
   "name": "python385jvsc74a57bd0c6e04f7a5ac130eeb20013286f1255cff64e2a49ad6e6267f06a989cb4e99f9c"
  },
  "language_info": {
   "codemirror_mode": {
    "name": "ipython",
    "version": 3
   },
   "file_extension": ".py",
   "mimetype": "text/x-python",
   "name": "python",
   "nbconvert_exporter": "python",
   "pygments_lexer": "ipython3",
   "version": "3.8.5"
  },
  "orig_nbformat": 2
 },
 "nbformat": 4,
 "nbformat_minor": 2
}
